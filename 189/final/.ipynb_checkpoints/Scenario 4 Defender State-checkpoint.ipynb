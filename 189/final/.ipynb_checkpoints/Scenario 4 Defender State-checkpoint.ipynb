{
 "cells": [
  {
   "cell_type": "code",
   "execution_count": 1,
   "metadata": {},
   "outputs": [],
   "source": [
    "import numpy as np \n",
    "import pandas as pd \n",
    "import matplotlib.pyplot as plt\n",
    "import seaborn as sns\n",
    "#import lightgbm as lgb\n",
    "from sklearn.model_selection import KFold\n",
    "import warnings\n",
    "import gc\n",
    "import time\n",
    "import sys\n",
    "import datetime\n",
    "import matplotlib.pyplot as plt\n",
    "import seaborn as sns\n",
    "from sklearn.metrics import mean_squared_error\n",
    "warnings.simplefilter(action='ignore', category=FutureWarning)\n",
    "warnings.filterwarnings('ignore')\n",
    "from sklearn import metrics\n",
    "import scipy.stats as stats\n",
    "\n",
    "from sklearn.model_selection import permutation_test_score\n",
    "from sklearn.model_selection import train_test_split\n",
    "\n",
    "from sklearn.pipeline import Pipeline\n",
    "from sklearn.compose import ColumnTransformer\n",
    "from sklearn.base import BaseEstimator, ClassifierMixin\n",
    "\n",
    "from sklearn.preprocessing import FunctionTransformer\n",
    "from sklearn.preprocessing import OneHotEncoder\n",
    "from sklearn.impute import SimpleImputer\n",
    "\n",
    "from sklearn.ensemble import RandomForestClassifier\n",
    "from sklearn.linear_model import LogisticRegression\n",
    "\n",
    "plt.style.use('seaborn')\n",
    "sns.set(font_scale=2)\n",
    "pd.set_option('display.max_columns', 500)"
   ]
  },
  {
   "cell_type": "code",
   "execution_count": 2,
   "metadata": {},
   "outputs": [],
   "source": [
    "def analysis(col, tops = 10):\n",
    "    temp = train[col].value_counts()\n",
    "    temp = temp.iloc[:tops].index\n",
    "    #temp = train.index\n",
    "    temp_df = train[train[col].isin(temp)]\n",
    "    prob = temp_df[col].value_counts(normalize=True)\n",
    "    draw = np.random.choice(prob.index, p=prob, size=len(temp_df))\n",
    "    output = pd.Series(draw).value_counts(normalize=True).rename('simulated')\n",
    "    zeros = set(temp_df[col].dropna().unique()).difference(set(output.index))\n",
    "    output = output.append(pd.Series([0 for i in zeros], index = zeros))\n",
    "    pd.DataFrame({'train_data': temp_df[temp_df['HasDetections'] == 1][col].value_counts(normalize = True),\n",
    "                         'random_data': output}).plot(kind = 'bar', figsize=(20,10))\n",
    "    plt.title('Percent of Has detections by {} (most of the catogaries)'.format(col))\n",
    "    \n",
    "    display(pd.DataFrame({'train_data': temp_df[temp_df['HasDetections'] == 1][col].value_counts(normalize = True),\n",
    "                         'random_data': output}))\n",
    "    return stats.ks_2samp(temp_df[temp_df['HasDetections'] == 1][col].value_counts(normalize = True),\n",
    "                output)\n",
    "                        "
   ]
  },
  {
   "cell_type": "code",
   "execution_count": 3,
   "metadata": {},
   "outputs": [],
   "source": [
    "COLS = [\n",
    "    'HasDetections',\n",
    "    'IsBeta',\n",
    "    'ProductName'\n",
    "]"
   ]
  },
  {
   "cell_type": "code",
   "execution_count": 4,
   "metadata": {},
   "outputs": [],
   "source": [
    "train = pd.read_csv(\"train.csv\", sep=',', engine='c', usecols=COLS)"
   ]
  },
  {
   "cell_type": "code",
   "execution_count": 5,
   "metadata": {},
   "outputs": [
    {
     "data": {
      "text/html": [
       "<div>\n",
       "<style scoped>\n",
       "    .dataframe tbody tr th:only-of-type {\n",
       "        vertical-align: middle;\n",
       "    }\n",
       "\n",
       "    .dataframe tbody tr th {\n",
       "        vertical-align: top;\n",
       "    }\n",
       "\n",
       "    .dataframe thead th {\n",
       "        text-align: right;\n",
       "    }\n",
       "</style>\n",
       "<table border=\"1\" class=\"dataframe\">\n",
       "  <thead>\n",
       "    <tr style=\"text-align: right;\">\n",
       "      <th></th>\n",
       "      <th>ProductName</th>\n",
       "      <th>IsBeta</th>\n",
       "      <th>HasDetections</th>\n",
       "    </tr>\n",
       "  </thead>\n",
       "  <tbody>\n",
       "    <tr>\n",
       "      <th>0</th>\n",
       "      <td>win8defender</td>\n",
       "      <td>0</td>\n",
       "      <td>0</td>\n",
       "    </tr>\n",
       "    <tr>\n",
       "      <th>1</th>\n",
       "      <td>win8defender</td>\n",
       "      <td>0</td>\n",
       "      <td>0</td>\n",
       "    </tr>\n",
       "    <tr>\n",
       "      <th>2</th>\n",
       "      <td>win8defender</td>\n",
       "      <td>0</td>\n",
       "      <td>0</td>\n",
       "    </tr>\n",
       "    <tr>\n",
       "      <th>3</th>\n",
       "      <td>win8defender</td>\n",
       "      <td>0</td>\n",
       "      <td>1</td>\n",
       "    </tr>\n",
       "    <tr>\n",
       "      <th>4</th>\n",
       "      <td>win8defender</td>\n",
       "      <td>0</td>\n",
       "      <td>1</td>\n",
       "    </tr>\n",
       "  </tbody>\n",
       "</table>\n",
       "</div>"
      ],
      "text/plain": [
       "    ProductName  IsBeta  HasDetections\n",
       "0  win8defender       0              0\n",
       "1  win8defender       0              0\n",
       "2  win8defender       0              0\n",
       "3  win8defender       0              1\n",
       "4  win8defender       0              1"
      ]
     },
     "execution_count": 5,
     "metadata": {},
     "output_type": "execute_result"
    }
   ],
   "source": [
    "train.head()"
   ]
  },
  {
   "cell_type": "code",
   "execution_count": 6,
   "metadata": {},
   "outputs": [
    {
     "data": {
      "text/html": [
       "<div>\n",
       "<style scoped>\n",
       "    .dataframe tbody tr th:only-of-type {\n",
       "        vertical-align: middle;\n",
       "    }\n",
       "\n",
       "    .dataframe tbody tr th {\n",
       "        vertical-align: top;\n",
       "    }\n",
       "\n",
       "    .dataframe thead th {\n",
       "        text-align: right;\n",
       "    }\n",
       "</style>\n",
       "<table border=\"1\" class=\"dataframe\">\n",
       "  <thead>\n",
       "    <tr style=\"text-align: right;\">\n",
       "      <th></th>\n",
       "      <th>train_data</th>\n",
       "      <th>random_data</th>\n",
       "    </tr>\n",
       "  </thead>\n",
       "  <tbody>\n",
       "    <tr>\n",
       "      <th>0</th>\n",
       "      <td>0.999993</td>\n",
       "      <td>0.999993</td>\n",
       "    </tr>\n",
       "    <tr>\n",
       "      <th>1</th>\n",
       "      <td>0.000007</td>\n",
       "      <td>0.000007</td>\n",
       "    </tr>\n",
       "  </tbody>\n",
       "</table>\n",
       "</div>"
      ],
      "text/plain": [
       "   train_data  random_data\n",
       "0    0.999993     0.999993\n",
       "1    0.000007     0.000007"
      ]
     },
     "metadata": {},
     "output_type": "display_data"
    },
    {
     "data": {
      "text/plain": [
       "Ks_2sampResult(statistic=0.5, pvalue=0.8438198245415606)"
      ]
     },
     "execution_count": 6,
     "metadata": {},
     "output_type": "execute_result"
    },
    {
     "data": {
      "image/png": "[encoded data removed]",
      "text/plain": [
       "<Figure size 1440x720 with 1 Axes>"
      ]
     },
     "metadata": {
      "needs_background": "light"
     },
     "output_type": "display_data"
    }
   ],
   "source": [
    "analysis(COLS[1])"
   ]
  },
  {
   "cell_type": "code",
   "execution_count": 7,
   "metadata": {},
   "outputs": [
    {
     "data": {
      "text/plain": [
       "ProductName\n",
       "fep              0.428571\n",
       "mse              0.484448\n",
       "mseprerelease    0.490566\n",
       "scep             0.454545\n",
       "win8defender     0.499958\n",
       "windowsintune    0.125000\n",
       "Name: HasDetections, dtype: float64"
      ]
     },
     "execution_count": 7,
     "metadata": {},
     "output_type": "execute_result"
    }
   ],
   "source": [
    "train.groupby('ProductName').HasDetections.mean()"
   ]
  },
  {
   "cell_type": "code",
   "execution_count": 8,
   "metadata": {},
   "outputs": [
    {
     "data": {
      "text/html": [
       "<div>\n",
       "<style scoped>\n",
       "    .dataframe tbody tr th:only-of-type {\n",
       "        vertical-align: middle;\n",
       "    }\n",
       "\n",
       "    .dataframe tbody tr th {\n",
       "        vertical-align: top;\n",
       "    }\n",
       "\n",
       "    .dataframe thead th {\n",
       "        text-align: right;\n",
       "    }\n",
       "</style>\n",
       "<table border=\"1\" class=\"dataframe\">\n",
       "  <thead>\n",
       "    <tr style=\"text-align: right;\">\n",
       "      <th></th>\n",
       "      <th>train_data</th>\n",
       "      <th>random_data</th>\n",
       "    </tr>\n",
       "  </thead>\n",
       "  <tbody>\n",
       "    <tr>\n",
       "      <th>fep</th>\n",
       "      <td>6.728129e-07</td>\n",
       "      <td>3.362670e-07</td>\n",
       "    </tr>\n",
       "    <tr>\n",
       "      <th>mse</th>\n",
       "      <td>1.030772e-02</td>\n",
       "      <td>1.067502e-02</td>\n",
       "    </tr>\n",
       "    <tr>\n",
       "      <th>mseprerelease</th>\n",
       "      <td>5.831045e-06</td>\n",
       "      <td>4.371471e-06</td>\n",
       "    </tr>\n",
       "    <tr>\n",
       "      <th>scep</th>\n",
       "      <td>2.242710e-06</td>\n",
       "      <td>1.793424e-06</td>\n",
       "    </tr>\n",
       "    <tr>\n",
       "      <th>win8defender</th>\n",
       "      <td>9.896833e-01</td>\n",
       "      <td>9.893174e-01</td>\n",
       "    </tr>\n",
       "    <tr>\n",
       "      <th>windowsintune</th>\n",
       "      <td>2.242710e-07</td>\n",
       "      <td>1.120890e-06</td>\n",
       "    </tr>\n",
       "  </tbody>\n",
       "</table>\n",
       "</div>"
      ],
      "text/plain": [
       "                 train_data   random_data\n",
       "fep            6.728129e-07  3.362670e-07\n",
       "mse            1.030772e-02  1.067502e-02\n",
       "mseprerelease  5.831045e-06  4.371471e-06\n",
       "scep           2.242710e-06  1.793424e-06\n",
       "win8defender   9.896833e-01  9.893174e-01\n",
       "windowsintune  2.242710e-07  1.120890e-06"
      ]
     },
     "metadata": {},
     "output_type": "display_data"
    },
    {
     "data": {
      "text/plain": [
       "Ks_2sampResult(statistic=0.16666666666666674, pvalue=0.9999565148992585)"
      ]
     },
     "execution_count": 8,
     "metadata": {},
     "output_type": "execute_result"
    },
    {
     "data": {
      "image/png": "[encoded data removed]",
      "text/plain": [
       "<Figure size 1440x720 with 1 Axes>"
      ]
     },
     "metadata": {
      "needs_background": "light"
     },
     "output_type": "display_data"
    }
   ],
   "source": [
    "analysis(COLS[2])"
   ]
  },
  {
   "cell_type": "code",
   "execution_count": 9,
   "metadata": {},
   "outputs": [],
   "source": [
    "# We assume there has No significantly difference between Defender State and Malware detection"
   ]
  },
  {
   "cell_type": "code",
   "execution_count": null,
   "metadata": {},
   "outputs": [],
   "source": []
  },
  {
   "cell_type": "code",
   "execution_count": 10,
   "metadata": {},
   "outputs": [],
   "source": [
    "# random forest clustering to confirm our assumption"
   ]
  },
  {
   "cell_type": "code",
   "execution_count": 11,
   "metadata": {},
   "outputs": [],
   "source": [
    "def skl(col):\n",
    "    nominal_transformer = Pipeline(steps=[\n",
    "        ('onehot', OneHotEncoder(handle_unknown='ignore'))\n",
    "    ])\n",
    "    preproc = ColumnTransformer(transformers=[('onehot', nominal_transformer, col)],\\\n",
    "                                          remainder='drop')\n",
    "    clf = RandomForestClassifier(n_estimators=7, max_depth=60)\n",
    "    pl = Pipeline(steps=[('preprocessor', preproc),\n",
    "                    ('clf', clf)\n",
    "                    ])\n",
    "    return pl"
   ]
  },
  {
   "cell_type": "code",
   "execution_count": 12,
   "metadata": {},
   "outputs": [],
   "source": [
    "X_train, X_test, y_train, y_test = train_test_split(train.dropna().drop('HasDetections',axis = 1)\\\n",
    "                                                    , train.dropna()['HasDetections'], test_size=0.25)\n",
    "N = len(y_test)\n",
    "y_random = y_test.sample(replace=False, frac = 1)"
   ]
  },
  {
   "cell_type": "code",
   "execution_count": 13,
   "metadata": {},
   "outputs": [],
   "source": [
    "output = pd.DataFrame(columns = ['Observation accuracy', 'Random_Data accuracy'], index = COLS[1:])\n",
    "for i in COLS[1:]:\n",
    "    pl = skl([COLS[1]])\n",
    "    pl.fit(X_train, y_train)\n",
    "    pred_score = pl.score(X_test, y_test)\n",
    "    rand_score = pl.score(X_test, y_random)\n",
    "    output.loc[i, 'Observation accuracy'] = pred_score\n",
    "    output.loc[i, 'Random_Data accuracy'] = rand_score\n",
    "pl = skl(COLS[1:])\n",
    "pl.fit(X_train, y_train)\n",
    "pred_score = pl.score(X_test, y_test)\n",
    "rand_score = pl.score(X_test, y_random)\n",
    "output.loc['combined', 'Observation accuracy'] = pred_score\n",
    "output.loc['combined', 'Random_Data accuracy'] = rand_score"
   ]
  },
  {
   "cell_type": "code",
   "execution_count": 14,
   "metadata": {},
   "outputs": [
    {
     "data": {
      "text/html": [
       "<div>\n",
       "<style scoped>\n",
       "    .dataframe tbody tr th:only-of-type {\n",
       "        vertical-align: middle;\n",
       "    }\n",
       "\n",
       "    .dataframe tbody tr th {\n",
       "        vertical-align: top;\n",
       "    }\n",
       "\n",
       "    .dataframe thead th {\n",
       "        text-align: right;\n",
       "    }\n",
       "</style>\n",
       "<table border=\"1\" class=\"dataframe\">\n",
       "  <thead>\n",
       "    <tr style=\"text-align: right;\">\n",
       "      <th></th>\n",
       "      <th>Observation accuracy</th>\n",
       "      <th>Random_Data accuracy</th>\n",
       "    </tr>\n",
       "  </thead>\n",
       "  <tbody>\n",
       "    <tr>\n",
       "      <th>IsBeta</th>\n",
       "      <td>0.500281</td>\n",
       "      <td>0.500284</td>\n",
       "    </tr>\n",
       "    <tr>\n",
       "      <th>ProductName</th>\n",
       "      <td>0.500281</td>\n",
       "      <td>0.500284</td>\n",
       "    </tr>\n",
       "    <tr>\n",
       "      <th>combined</th>\n",
       "      <td>0.500281</td>\n",
       "      <td>0.500284</td>\n",
       "    </tr>\n",
       "  </tbody>\n",
       "</table>\n",
       "</div>"
      ],
      "text/plain": [
       "            Observation accuracy Random_Data accuracy\n",
       "IsBeta                  0.500281             0.500284\n",
       "ProductName             0.500281             0.500284\n",
       "combined                0.500281             0.500284"
      ]
     },
     "execution_count": 14,
     "metadata": {},
     "output_type": "execute_result"
    }
   ],
   "source": [
    "output"
   ]
  },
  {
   "cell_type": "code",
   "execution_count": 15,
   "metadata": {},
   "outputs": [],
   "source": [
    "# Conclusion: defender state has no influence to malware detection."
   ]
  },
  {
   "cell_type": "code",
   "execution_count": null,
   "metadata": {},
   "outputs": [],
   "source": []
  }
 ],
 "metadata": {
  "kernelspec": {
   "display_name": "Python [conda env:UCSD]",
   "language": "python",
   "name": "conda-env-UCSD-py"
  },
  "language_info": {
   "codemirror_mode": {
    "name": "ipython",
    "version": 3
   },
   "file_extension": ".py",
   "mimetype": "text/x-python",
   "name": "python",
   "nbconvert_exporter": "python",
   "pygments_lexer": "ipython3",
   "version": "3.6.8"
  }
 },
 "nbformat": 4,
 "nbformat_minor": 2
}
