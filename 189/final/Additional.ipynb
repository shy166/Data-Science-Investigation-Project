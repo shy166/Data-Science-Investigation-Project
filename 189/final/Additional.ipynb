{
 "cells": [
  {
   "cell_type": "code",
   "execution_count": 1,
   "metadata": {},
   "outputs": [],
   "source": [
    " #Feature Engineering with random forest in practice"
   ]
  },
  {
   "cell_type": "code",
   "execution_count": 12,
   "metadata": {},
   "outputs": [],
   "source": [
    "#using analysis above and kaggle article:\n",
    "#we will perform a feature engineering to make our prediction"
   ]
  },
  {
   "cell_type": "code",
   "execution_count": 5,
   "metadata": {},
   "outputs": [],
   "source": [
    "import numpy as np \n",
    "import pandas as pd \n",
    "import matplotlib.pyplot as plt\n",
    "import seaborn as sns\n",
    "#import lightgbm as lgb\n",
    "from sklearn.model_selection import KFold\n",
    "import warnings\n",
    "import gc\n",
    "import time\n",
    "import sys\n",
    "import datetime\n",
    "import matplotlib.pyplot as plt\n",
    "import seaborn as sns\n",
    "from sklearn.metrics import mean_squared_error\n",
    "warnings.simplefilter(action='ignore', category=FutureWarning)\n",
    "warnings.filterwarnings('ignore')\n",
    "from sklearn import metrics\n",
    "import scipy.stats as stats\n",
    "\n",
    "from sklearn.model_selection import permutation_test_score\n",
    "from sklearn.model_selection import train_test_split\n",
    "\n",
    "from sklearn.pipeline import Pipeline\n",
    "from sklearn.compose import ColumnTransformer\n",
    "from sklearn.base import BaseEstimator, ClassifierMixin\n",
    "\n",
    "from sklearn.preprocessing import FunctionTransformer\n",
    "from sklearn.preprocessing import OneHotEncoder\n",
    "from sklearn.impute import SimpleImputer\n",
    "\n",
    "from sklearn.ensemble import RandomForestClassifier\n",
    "from sklearn.linear_model import LogisticRegression\n",
    "\n",
    "plt.style.use('seaborn')\n",
    "sns.set(font_scale=2)\n",
    "pd.set_option('display.max_columns', 500)"
   ]
  },
  {
   "cell_type": "code",
   "execution_count": 6,
   "metadata": {},
   "outputs": [],
   "source": [
    "COLS = [\n",
    "    'HasDetections',\n",
    "    'AVProductStatesIdentifier',\n",
    "    'AVProductsInstalled',\n",
    "    'GeoNameIdentifier',\n",
    "    'CountryIdentifier',\n",
    "    'OsBuild',\n",
    "]"
   ]
  },
  {
   "cell_type": "code",
   "execution_count": 7,
   "metadata": {},
   "outputs": [],
   "source": [
    "train = pd.read_csv(\"train.csv\", sep=',', engine='c', usecols=COLS)"
   ]
  },
  {
   "cell_type": "code",
   "execution_count": 8,
   "metadata": {},
   "outputs": [],
   "source": [
    "def skl(col):\n",
    "    nominal_transformer = Pipeline(steps=[\n",
    "        ('onehot', OneHotEncoder(handle_unknown='ignore'))\n",
    "    ])\n",
    "    preproc = ColumnTransformer(transformers=[('onehot', nominal_transformer, col)],\\\n",
    "                                          remainder='drop')\n",
    "    clf = RandomForestClassifier(n_estimators=7, max_depth=60)\n",
    "    pl = Pipeline(steps=[('preprocessor', preproc),\n",
    "                    ('clf', clf)\n",
    "                    ])\n",
    "    return pl"
   ]
  },
  {
   "cell_type": "code",
   "execution_count": 9,
   "metadata": {},
   "outputs": [],
   "source": [
    "X_train, X_test, y_train, y_test = train_test_split(train.dropna().drop('HasDetections',axis = 1)\\\n",
    "                                                    , train.dropna()['HasDetections'], test_size=0.25)\n",
    "N = len(y_test)\n",
    "y_random = y_test.sample(replace=False, frac = 1)"
   ]
  },
  {
   "cell_type": "code",
   "execution_count": 10,
   "metadata": {},
   "outputs": [],
   "source": [
    "output = pd.DataFrame(columns = ['Observation accuracy', 'Random_Data accuracy'], index = COLS[1:])\n",
    "for i in COLS[1:]:\n",
    "    pl = skl([i])\n",
    "    pl.fit(X_train, y_train)\n",
    "    pred_score = pl.score(X_test, y_test)\n",
    "    rand_score = pl.score(X_test, y_random)\n",
    "    output.loc[i, 'Observation accuracy'] = pred_score\n",
    "    output.loc[i, 'Random_Data accuracy'] = rand_score\n",
    "pl = skl(COLS[1:])\n",
    "pl.fit(X_train, y_train)\n",
    "pred_score = pl.score(X_test, y_test)\n",
    "rand_score = pl.score(X_test, y_random)\n",
    "output.loc['combined', 'Observation accuracy'] = pred_score\n",
    "output.loc['combined', 'Random_Data accuracy'] = rand_score"
   ]
  },
  {
   "cell_type": "code",
   "execution_count": 11,
   "metadata": {},
   "outputs": [
    {
     "data": {
      "text/html": [
       "<div>\n",
       "<style scoped>\n",
       "    .dataframe tbody tr th:only-of-type {\n",
       "        vertical-align: middle;\n",
       "    }\n",
       "\n",
       "    .dataframe tbody tr th {\n",
       "        vertical-align: top;\n",
       "    }\n",
       "\n",
       "    .dataframe thead th {\n",
       "        text-align: right;\n",
       "    }\n",
       "</style>\n",
       "<table border=\"1\" class=\"dataframe\">\n",
       "  <thead>\n",
       "    <tr style=\"text-align: right;\">\n",
       "      <th></th>\n",
       "      <th>Observation accuracy</th>\n",
       "      <th>Random_Data accuracy</th>\n",
       "    </tr>\n",
       "  </thead>\n",
       "  <tbody>\n",
       "    <tr>\n",
       "      <th>AVProductStatesIdentifier</th>\n",
       "      <td>0.57534</td>\n",
       "      <td>0.500394</td>\n",
       "    </tr>\n",
       "    <tr>\n",
       "      <th>AVProductsInstalled</th>\n",
       "      <td>0.567726</td>\n",
       "      <td>0.500496</td>\n",
       "    </tr>\n",
       "    <tr>\n",
       "      <th>GeoNameIdentifier</th>\n",
       "      <td>0.525647</td>\n",
       "      <td>0.499962</td>\n",
       "    </tr>\n",
       "    <tr>\n",
       "      <th>CountryIdentifier</th>\n",
       "      <td>0.528215</td>\n",
       "      <td>0.499806</td>\n",
       "    </tr>\n",
       "    <tr>\n",
       "      <th>OsBuild</th>\n",
       "      <td>0.518121</td>\n",
       "      <td>0.499963</td>\n",
       "    </tr>\n",
       "    <tr>\n",
       "      <th>combined</th>\n",
       "      <td>0.580936</td>\n",
       "      <td>0.500268</td>\n",
       "    </tr>\n",
       "  </tbody>\n",
       "</table>\n",
       "</div>"
      ],
      "text/plain": [
       "                          Observation accuracy Random_Data accuracy\n",
       "AVProductStatesIdentifier              0.57534             0.500394\n",
       "AVProductsInstalled                   0.567726             0.500496\n",
       "GeoNameIdentifier                     0.525647             0.499962\n",
       "CountryIdentifier                     0.528215             0.499806\n",
       "OsBuild                               0.518121             0.499963\n",
       "combined                              0.580936             0.500268"
      ]
     },
     "execution_count": 11,
     "metadata": {},
     "output_type": "execute_result"
    }
   ],
   "source": [
    "output"
   ]
  },
  {
   "cell_type": "code",
   "execution_count": null,
   "metadata": {},
   "outputs": [],
   "source": []
  }
 ],
 "metadata": {
  "kernelspec": {
   "display_name": "Python [conda env:UCSD]",
   "language": "python",
   "name": "conda-env-UCSD-py"
  },
  "language_info": {
   "codemirror_mode": {
    "name": "ipython",
    "version": 3
   },
   "file_extension": ".py",
   "mimetype": "text/x-python",
   "name": "python",
   "nbconvert_exporter": "python",
   "pygments_lexer": "ipython3",
   "version": "3.6.8"
  }
 },
 "nbformat": 4,
 "nbformat_minor": 2
}
