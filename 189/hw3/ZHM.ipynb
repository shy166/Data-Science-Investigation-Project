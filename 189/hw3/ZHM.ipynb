{
 "cells": [
  {
   "cell_type": "code",
   "execution_count": 1,
   "metadata": {},
   "outputs": [],
   "source": [
    "import pandas as pd\n",
    "import numpy as np\n",
    "import seaborn as sns\n",
    "import matplotlib.pyplot as plt\n",
    "import scipy.stats as stats\n",
    "from scipy.stats import poisson\n",
    "%matplotlib inline\n",
    "#import statsmodels.api as sm\n",
    "#import statsmodels.stats.api as sms\n",
    "#from statsmodels.stats.proportion import proportion_confint\n",
    "#import pylab\n",
    "#import warnings\n",
    "#warnings.simplefilter(action='ignore', category=FutureWarning)"
   ]
  },
  {
   "cell_type": "code",
   "execution_count": 2,
   "metadata": {},
   "outputs": [],
   "source": [
    "data_1 = pd.read_csv('hcmv-263hxkx-1qhtfgz.txt')"
   ]
  },
  {
   "cell_type": "code",
   "execution_count": 3,
   "metadata": {},
   "outputs": [],
   "source": [
    "# from original data set, n = 296 (Palindromes), N = 229354 (Base pairs)\n",
    "n, N = 296, 229354"
   ]
  },
  {
   "cell_type": "code",
   "execution_count": 4,
   "metadata": {},
   "outputs": [],
   "source": [
    "# Generate three uniformed distributed \n",
    "samples = [np.random.uniform(0,N,n) for i in range(3)]"
   ]
  },
  {
   "cell_type": "code",
   "execution_count": null,
   "metadata": {},
   "outputs": [],
   "source": []
  },
  {
   "cell_type": "markdown",
   "metadata": {},
   "source": [
    "# Counts&Biggest Cluster"
   ]
  },
  {
   "cell_type": "code",
   "execution_count": 5,
   "metadata": {},
   "outputs": [],
   "source": [
    "width = 4000"
   ]
  },
  {
   "cell_type": "code",
   "execution_count": 11,
   "metadata": {
    "scrolled": true
   },
   "outputs": [
    {
     "name": "stdout",
     "output_type": "stream",
     "text": [
      "The p-vlaue is: 0.001919981914826785\n"
     ]
    }
   ],
   "source": [
    "size = N//width+1\n",
    "cluster_count = [0]*(size)\n",
    "for i in list(data_1['location']):\n",
    "    index = i//width\n",
    "    cluster_count[index]+=1\n",
    "max_count = max(cluster_count)\n",
    "poisson_lambda = n/size\n",
    "p = 1-(poisson.cdf(max_count-1, poisson_lambda)**size)\n",
    "print(\"The p-vlaue is: \"+str(p))"
   ]
  },
  {
   "cell_type": "code",
   "execution_count": 8,
   "metadata": {},
   "outputs": [
    {
     "data": {
      "text/plain": [
       "<matplotlib.axes._subplots.AxesSubplot at 0x1fde8ae3f60>"
      ]
     },
     "execution_count": 8,
     "metadata": {},
     "output_type": "execute_result"
    },
    {
     "data": {
      "image/png": "[encoded data removed]",
      "text/plain": [
       "<Figure size 432x288 with 4 Axes>"
      ]
     },
     "metadata": {},
     "output_type": "display_data"
    }
   ],
   "source": [
    "plt.subplot(221)\n",
    "data_1['location'].plot(kind='hist',ylim=(0,max_count+1),bins=size, range=(0,size*width), title = 'original dataset', sharex = True, sharey= True)\n",
    "plt.subplot(222)\n",
    "pd.Series(samples[0]).plot(kind='hist',ylim=(0,max_count+1),bins=size, range=(0,size*width), title = 'simulated 1', sharex = True, sharey= True)\n",
    "plt.subplot(223)\n",
    "pd.Series(samples[1]).plot(kind='hist',ylim=(0,max_count+1),bins=size, range=(0,size*width), title = 'simulated 2', sharex = True, sharey= True)\n",
    "plt.subplot(224)\n",
    "pd.Series(samples[2]).plot(kind='hist',ylim=(0,max_count+1),bins=size, range=(0,size*width), title = 'simulated 3', sharex = True, sharey= True)"
   ]
  },
  {
   "cell_type": "code",
   "execution_count": 13,
   "metadata": {},
   "outputs": [],
   "source": [
    "width = 2000"
   ]
  },
  {
   "cell_type": "code",
   "execution_count": 14,
   "metadata": {
    "scrolled": true
   },
   "outputs": [
    {
     "name": "stdout",
     "output_type": "stream",
     "text": [
      "The p-vlaue is: 0.001919981914826785\n"
     ]
    }
   ],
   "source": [
    "size = N//width+1\n",
    "cluster_count = [0]*(size)\n",
    "for i in list(data_1['location']):\n",
    "    index = i//width\n",
    "    cluster_count[index]+=1\n",
    "max_count = max(cluster_count)\n",
    "poisson_lambda = n/size\n",
    "p = 1-(poisson.cdf(max_count-1, poisson_lambda)**size)\n",
    "print(\"The p-vlaue is: \"+str(p))"
   ]
  },
  {
   "cell_type": "code",
   "execution_count": 15,
   "metadata": {},
   "outputs": [
    {
     "data": {
      "text/plain": [
       "<matplotlib.axes._subplots.AxesSubplot at 0x1fde9f28d68>"
      ]
     },
     "execution_count": 15,
     "metadata": {},
     "output_type": "execute_result"
    },
    {
     "data": {
      "image/png": "[encoded data removed]",
      "text/plain": [
       "<Figure size 432x288 with 4 Axes>"
      ]
     },
     "metadata": {},
     "output_type": "display_data"
    }
   ],
   "source": [
    "plt.subplot(221)\n",
    "data_1['location'].plot(kind='hist',ylim=(0,max_count+1),bins=size, range=(0,size*width), title = 'original dataset', sharex = True, sharey= True)\n",
    "plt.subplot(222)\n",
    "pd.Series(samples[0]).plot(kind='hist',ylim=(0,max_count+1),bins=size, range=(0,size*width), title = 'simulated 1', sharex = True, sharey= True)\n",
    "plt.subplot(223)\n",
    "pd.Series(samples[1]).plot(kind='hist',ylim=(0,max_count+1),bins=size, range=(0,size*width), title = 'simulated 2', sharex = True, sharey= True)\n",
    "plt.subplot(224)\n",
    "pd.Series(samples[2]).plot(kind='hist',ylim=(0,max_count+1),bins=size, range=(0,size*width), title = 'simulated 3', sharex = True, sharey= True)"
   ]
  },
  {
   "cell_type": "code",
   "execution_count": 16,
   "metadata": {},
   "outputs": [],
   "source": [
    "width = 8000"
   ]
  },
  {
   "cell_type": "code",
   "execution_count": 17,
   "metadata": {
    "scrolled": true
   },
   "outputs": [
    {
     "name": "stdout",
     "output_type": "stream",
     "text": [
      "The p-vlaue is: 0.05685861875947973\n"
     ]
    }
   ],
   "source": [
    "size = N//width+1\n",
    "cluster_count = [0]*(size)\n",
    "for i in list(data_1['location']):\n",
    "    index = i//width\n",
    "    cluster_count[index]+=1\n",
    "max_count = max(cluster_count)\n",
    "poisson_lambda = n/size\n",
    "p = 1-(poisson.cdf(max_count-1, poisson_lambda)**size)\n",
    "print(\"The p-vlaue is: \"+str(p))"
   ]
  },
  {
   "cell_type": "code",
   "execution_count": 18,
   "metadata": {},
   "outputs": [
    {
     "data": {
      "text/plain": [
       "<matplotlib.axes._subplots.AxesSubplot at 0x1fdea30fe80>"
      ]
     },
     "execution_count": 18,
     "metadata": {},
     "output_type": "execute_result"
    },
    {
     "data": {
      "image/png": "[encoded data removed]",
      "text/plain": [
       "<Figure size 432x288 with 4 Axes>"
      ]
     },
     "metadata": {},
     "output_type": "display_data"
    }
   ],
   "source": [
    "plt.subplot(221)\n",
    "data_1['location'].plot(kind='hist',ylim=(0,max_count+1),bins=size, range=(0,size*width), title = 'original dataset', sharex = True, sharey= True)\n",
    "plt.subplot(222)\n",
    "pd.Series(samples[0]).plot(kind='hist',ylim=(0,max_count+1),bins=size, range=(0,size*width), title = 'simulated 1', sharex = True, sharey= True)\n",
    "plt.subplot(223)\n",
    "pd.Series(samples[1]).plot(kind='hist',ylim=(0,max_count+1),bins=size, range=(0,size*width), title = 'simulated 2', sharex = True, sharey= True)\n",
    "plt.subplot(224)\n",
    "pd.Series(samples[2]).plot(kind='hist',ylim=(0,max_count+1),bins=size, range=(0,size*width), title = 'simulated 3', sharex = True, sharey= True)"
   ]
  },
  {
   "cell_type": "code",
   "execution_count": 19,
   "metadata": {},
   "outputs": [],
   "source": [
    "width = 12000"
   ]
  },
  {
   "cell_type": "code",
   "execution_count": 20,
   "metadata": {
    "scrolled": true
   },
   "outputs": [
    {
     "name": "stdout",
     "output_type": "stream",
     "text": [
      "The p-vlaue is: 0.02803993843365138\n"
     ]
    }
   ],
   "source": [
    "size = N//width+1\n",
    "cluster_count = [0]*(size)\n",
    "for i in list(data_1['location']):\n",
    "    index = i//width\n",
    "    cluster_count[index]+=1\n",
    "max_count = max(cluster_count)\n",
    "poisson_lambda = n/size\n",
    "p = 1-(poisson.cdf(max_count-1, poisson_lambda)**size)\n",
    "print(\"The p-vlaue is: \"+str(p))"
   ]
  },
  {
   "cell_type": "code",
   "execution_count": 21,
   "metadata": {},
   "outputs": [
    {
     "data": {
      "text/plain": [
       "<matplotlib.axes._subplots.AxesSubplot at 0x1fdea52a668>"
      ]
     },
     "execution_count": 21,
     "metadata": {},
     "output_type": "execute_result"
    },
    {
     "data": {
      "image/png": "[encoded data removed]",
      "text/plain": [
       "<Figure size 432x288 with 4 Axes>"
      ]
     },
     "metadata": {},
     "output_type": "display_data"
    }
   ],
   "source": [
    "plt.subplot(221)\n",
    "data_1['location'].plot(kind='hist',ylim=(0,max_count+1),bins=size, range=(0,size*width), title = 'original dataset', sharex = True, sharey= True)\n",
    "plt.subplot(222)\n",
    "pd.Series(samples[0]).plot(kind='hist',ylim=(0,max_count+1),bins=size, range=(0,size*width), title = 'simulated 1', sharex = True, sharey= True)\n",
    "plt.subplot(223)\n",
    "pd.Series(samples[1]).plot(kind='hist',ylim=(0,max_count+1),bins=size, range=(0,size*width), title = 'simulated 2', sharex = True, sharey= True)\n",
    "plt.subplot(224)\n",
    "pd.Series(samples[2]).plot(kind='hist',ylim=(0,max_count+1),bins=size, range=(0,size*width), title = 'simulated 3', sharex = True, sharey= True)"
   ]
  },
  {
   "cell_type": "code",
   "execution_count": 22,
   "metadata": {},
   "outputs": [],
   "source": [
    "width = 20000"
   ]
  },
  {
   "cell_type": "code",
   "execution_count": 23,
   "metadata": {
    "scrolled": true
   },
   "outputs": [
    {
     "name": "stdout",
     "output_type": "stream",
     "text": [
      "The p-vlaue is: 0.5382143908949569\n"
     ]
    }
   ],
   "source": [
    "size = N//width+1\n",
    "cluster_count = [0]*(size)\n",
    "for i in list(data_1['location']):\n",
    "    index = i//width\n",
    "    cluster_count[index]+=1\n",
    "max_count = max(cluster_count)\n",
    "poisson_lambda = n/size\n",
    "p = 1-(poisson.cdf(max_count-1, poisson_lambda)**size)\n",
    "print(\"The p-vlaue is: \"+str(p))"
   ]
  },
  {
   "cell_type": "code",
   "execution_count": 25,
   "metadata": {},
   "outputs": [
    {
     "data": {
      "text/plain": [
       "<matplotlib.axes._subplots.AxesSubplot at 0x1fdea899be0>"
      ]
     },
     "execution_count": 25,
     "metadata": {},
     "output_type": "execute_result"
    },
    {
     "data": {
      "image/png": "[encoded data removed]",
      "text/plain": [
       "<Figure size 432x288 with 4 Axes>"
      ]
     },
     "metadata": {},
     "output_type": "display_data"
    }
   ],
   "source": [
    "plt.subplot(221)\n",
    "data_1['location'].plot(kind='hist',ylim=(0,max_count+3),bins=size, range=(0,size*width), title = 'original dataset', sharex = True, sharey= True)\n",
    "plt.subplot(222)\n",
    "pd.Series(samples[0]).plot(kind='hist',ylim=(0,max_count+3),bins=size, range=(0,size*width), title = 'simulated 1', sharex = True, sharey= True)\n",
    "plt.subplot(223)\n",
    "pd.Series(samples[1]).plot(kind='hist',ylim=(0,max_count+3),bins=size, range=(0,size*width), title = 'simulated 2', sharex = True, sharey= True)\n",
    "plt.subplot(224)\n",
    "pd.Series(samples[2]).plot(kind='hist',ylim=(0,max_count+3),bins=size, range=(0,size*width), title = 'simulated 3', sharex = True, sharey= True)"
   ]
  },
  {
   "cell_type": "code",
   "execution_count": null,
   "metadata": {},
   "outputs": [],
   "source": []
  },
  {
   "cell_type": "code",
   "execution_count": null,
   "metadata": {},
   "outputs": [],
   "source": []
  },
  {
   "cell_type": "code",
   "execution_count": null,
   "metadata": {},
   "outputs": [],
   "source": []
  },
  {
   "cell_type": "markdown",
   "metadata": {},
   "source": [
    "# The Biggest Cluster"
   ]
  },
  {
   "cell_type": "code",
   "execution_count": null,
   "metadata": {},
   "outputs": [],
   "source": []
  },
  {
   "cell_type": "code",
   "execution_count": null,
   "metadata": {},
   "outputs": [],
   "source": []
  },
  {
   "cell_type": "code",
   "execution_count": null,
   "metadata": {},
   "outputs": [],
   "source": []
  },
  {
   "cell_type": "markdown",
   "metadata": {},
   "source": [
    "# Advance, how would you advice biologist?"
   ]
  },
  {
   "cell_type": "code",
   "execution_count": null,
   "metadata": {},
   "outputs": [],
   "source": []
  },
  {
   "cell_type": "code",
   "execution_count": null,
   "metadata": {},
   "outputs": [],
   "source": []
  },
  {
   "cell_type": "code",
   "execution_count": null,
   "metadata": {},
   "outputs": [],
   "source": []
  },
  {
   "cell_type": "code",
   "execution_count": null,
   "metadata": {},
   "outputs": [],
   "source": []
  }
 ],
 "metadata": {
  "kernelspec": {
   "display_name": "Python 3",
   "language": "python",
   "name": "python3"
  },
  "language_info": {
   "codemirror_mode": {
    "name": "ipython",
    "version": 3
   },
   "file_extension": ".py",
   "mimetype": "text/x-python",
   "name": "python",
   "nbconvert_exporter": "python",
   "pygments_lexer": "ipython3",
   "version": "3.7.1"
  }
 },
 "nbformat": 4,
 "nbformat_minor": 2
}
