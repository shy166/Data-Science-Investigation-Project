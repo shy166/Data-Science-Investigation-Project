{
 "cells": [
  {
   "cell_type": "code",
   "execution_count": null,
   "metadata": {},
   "outputs": [],
   "source": [
    "import numpy as np \n",
    "import pandas as pd \n",
    "import matplotlib.pyplot as plt\n",
    "import seaborn as sns\n",
    "#import lightgbm as lgb\n",
    "from sklearn.model_selection import KFold\n",
    "import warnings\n",
    "import gc\n",
    "import time\n",
    "import sys\n",
    "import datetime\n",
    "import matplotlib.pyplot as plt\n",
    "import seaborn as sns\n",
    "from sklearn.metrics import mean_squared_error\n",
    "warnings.simplefilter(action='ignore', category=FutureWarning)\n",
    "warnings.filterwarnings('ignore')\n",
    "from sklearn import metrics\n",
    "import scipy.stats as stats\n",
    "\n",
    "from sklearn.model_selection import permutation_test_score\n",
    "from sklearn.model_selection import train_test_split\n",
    "\n",
    "from sklearn.pipeline import Pipeline\n",
    "from sklearn.compose import ColumnTransformer\n",
    "from sklearn.base import BaseEstimator, ClassifierMixin\n",
    "\n",
    "from sklearn.preprocessing import FunctionTransformer\n",
    "from sklearn.preprocessing import OneHotEncoder\n",
    "from sklearn.impute import SimpleImputer\n",
    "\n",
    "from sklearn.ensemble import RandomForestClassifier, GradientBoostingClassifier\n",
    "from sklearn.linear_model import LogisticRegression\n",
    "from sklearn.neighbors import KNeighborsClassifier\n",
    "from sklearn.linear_model import SGDClassifier\n",
    "from sklearn.svm import LinearSVC\n",
    "\n",
    "plt.style.use('seaborn')\n",
    "sns.set(font_scale=2)\n",
    "pd.set_option('display.max_columns', 500)"
   ]
  },
  {
   "cell_type": "code",
   "execution_count": null,
   "metadata": {},
   "outputs": [],
   "source": [
    "# we selecting top 20 columns from the feature selection model of Recursive feature elimination\n",
    "COLS = [\n",
    "    'HasDetections',\n",
    "    'CountryIdentifier',\n",
    "    'Census_OSVersion',\n",
    "    'GeoNameIdentifier',\n",
    "    'Census_OSBuildRevision',\n",
    "    'OsBuildLab',\n",
    "    'LocaleEnglishNameIdentifier',\n",
    "    'Census_FirmwareManufacturerIdentifier',\n",
    "    'AppVersion',\n",
    "    'AVProductStatesIdentifier',\n",
    "    'SmartScreen',\n",
    "    'AvSigVersion',\n",
    "    'Census_OEMModelIdentifier',\n",
    "    'Census_FirmwareVersionIdentifier',\n",
    "    'Census_SystemVolumeTotalCapacity',\n",
    "    'CityIdentifier',\n",
    "    'Census_OSVersion',\n",
    "    'EngineVersion',\n",
    "    'Census_OEMNameIdentifier',\n",
    "    'Census_ProcessorModelIdentifier',\n",
    "    'Census_OSInstallTypeName'\n",
    "]"
   ]
  },
  {
   "cell_type": "code",
   "execution_count": null,
   "metadata": {},
   "outputs": [],
   "source": [
    "train = pd.read_csv(\"train.csv\", sep=',', engine='c', usecols=COLS)"
   ]
  },
  {
   "cell_type": "code",
   "execution_count": null,
   "metadata": {},
   "outputs": [],
   "source": [
    "X_train, X_test, y_train, y_test = train_test_split(train.dropna().drop('HasDetections',axis = 1)\\\n",
    "                                                    , train.dropna()['HasDetections'], test_size=0.25)\n",
    "N = len(y_test)\n",
    "y_random = y_test.sample(replace=False, frac = 1)"
   ]
  },
  {
   "cell_type": "code",
   "execution_count": null,
   "metadata": {},
   "outputs": [],
   "source": [
    "output = pd.DataFrame(columns = ['Observation accuracy', 'Random_Data accuracy'])"
   ]
  },
  {
   "cell_type": "code",
   "execution_count": null,
   "metadata": {},
   "outputs": [],
   "source": [
    "def skl(col):\n",
    "    nominal_transformer = Pipeline(steps=[\n",
    "        ('onehot', OneHotEncoder(handle_unknown='ignore'))\n",
    "    ])\n",
    "    preproc = ColumnTransformer(transformers=[('onehot', nominal_transformer, col)],\\\n",
    "                                          remainder='drop')\n",
    "    clf = RandomForestClassifier()\n",
    "    pl = Pipeline(steps=[('preprocessor', preproc),\n",
    "                    ('clf', clf)\n",
    "                    ])\n",
    "    return pl"
   ]
  },
  {
   "cell_type": "code",
   "execution_count": null,
   "metadata": {},
   "outputs": [],
   "source": [
    "pl = skl(COLS[1:])\n",
    "pl.fit(X_train, y_train)\n",
    "pred_score = pl.score(X_test, y_test)\n",
    "rand_score = pl.score(X_test, y_random)\n",
    "output.loc['random_forest', 'Observation accuracy'] = pred_score\n",
    "output.loc['random_forest', 'Random_Data accuracy'] = rand_score"
   ]
  },
  {
   "cell_type": "code",
   "execution_count": null,
   "metadata": {},
   "outputs": [],
   "source": [
    "output"
   ]
  },
  {
   "cell_type": "code",
   "execution_count": null,
   "metadata": {},
   "outputs": [],
   "source": []
  }
 ],
 "metadata": {
  "kernelspec": {
   "display_name": "Python 3",
   "language": "python",
   "name": "python3"
  },
  "language_info": {
   "codemirror_mode": {
    "name": "ipython",
    "version": 3
   },
   "file_extension": ".py",
   "mimetype": "text/x-python",
   "name": "python",
   "nbconvert_exporter": "python",
   "pygments_lexer": "ipython3",
   "version": "3.7.2"
  }
 },
 "nbformat": 4,
 "nbformat_minor": 2
}
